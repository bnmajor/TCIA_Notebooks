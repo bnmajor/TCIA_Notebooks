{
  "nbformat": 4,
  "nbformat_minor": 0,
  "metadata": {
    "colab": {
      "provenance": [],
      "authorship_tag": "ABX9TyPbVEWYhRckiGdD9x1XwnxJ"
    },
    "kernelspec": {
      "name": "python3",
      "display_name": "Python 3"
    },
    "language_info": {
      "name": "python"
    }
  },
  "cells": [
    {
      "cell_type": "markdown",
      "source": [
        "You can download and run this notebook locally, or you can run it for free in a cloud environment using Colab or Sagemaker Studio Lab:\n",
        "\n",
        "[![Open In Colab](https://colab.research.google.com/assets/colab-badge.svg)](https://colab.research.google.com/github/kirbyju/TCIA_Notebooks/blob/main/TCIA_Aspera_CLI_Downloads.ipynb)\n",
        "\n",
        "[![Open In SageMaker Studio Lab](https://studiolab.sagemaker.aws/studiolab.svg)](https://studiolab.sagemaker.aws/import/github.com/kirbyju/TCIA_Notebooks/blob/main/TCIA_Aspera_CLI_Downloads.ipynb)"
      ],
      "metadata": {
        "id": "s0EsIhNbmDdK"
      }
    },
    {
      "cell_type": "markdown",
      "source": [
        "# Summary\n",
        "Much of non-DICOM content in [The Cancer Imaging Archive (TCIA)](https://www.cancerimagingarchive.net/) is provided via links to IBM Aspera Faspex packages.  Aspera’s FASP protocol is designed to move data rapidly across networks with minimal disruption to other traffic.  Aspera’s Faspex application bundles data into packages that can be referenced via a web link (i.e., a URI).  When an Aspera Faspex link resolves in a browser, it presents a GUI that guides a user through the process of installing a browser extension and a local Aspera Connect client, if not already there, that moves the data using FASP between TCIA servers and the computer the browser is running on.\n",
        "We frequently get requests from researchers for an option to download TCIA Faspex packages using a command line interface, suitable for inclusion in shell/batch scripts, that bypasses the GUI.  While not a part of the standard Aspera distributions, the IBM Aspera developers have provided an open source tool (Apache 2.0 license) called [ascli (aspera-cli)](https://github.com/IBM/aspera-cli) that allows a client to download an Aspera Faspex package using its URI.\n"
      ],
      "metadata": {
        "id": "r9j_S5oaJ4nl"
      }
    },
    {
      "cell_type": "markdown",
      "source": [
        "# Install prerequisite software"
      ],
      "metadata": {
        "id": "y3eFafyJJ9Lt"
      }
    },
    {
      "cell_type": "code",
      "source": [
        "!apt install -y ruby ruby-dev rubygems ruby-json\n",
        "!gem install aspera-cli\n",
        "!ascli conf ascp install"
      ],
      "metadata": {
        "id": "Cbfvmj_FbEnS"
      },
      "execution_count": null,
      "outputs": []
    },
    {
      "cell_type": "markdown",
      "source": [
        "# Download an Aspera package"
      ],
      "metadata": {
        "id": "KgL7C-R_KCIq"
      }
    },
    {
      "cell_type": "markdown",
      "source": [
        "Now that the prerequisite installations are complete, you will be able to use the ascli command to transfer a TCIA Faspex package using just its link by following these steps:\n",
        "1.\tBrowse to the dataset landing page that describes the package,\n",
        "2.\tFind the “Download” button that one normally would use to download the package using the Faspex GUI, but do not click it,\n",
        "3.\tRight click that button icon and select “copy link address” or “copy link” or similar (depends on your browser) to extract the package URI into the clipboard or copy/paste buffer.\n",
        "\n",
        "Replace the **url** parameter in the following cell with the link of the package you want to download.  \n",
        "\n",
        "**Note:** If you don't change the package URL below it will only take a few seconds to download an example package (~100MB) from the [Cancer Moonshot Biobank - Gastroesophageal Cancer Collection (CMB-GEC)](https://doi.org/10.7937/E7KH-R486).\n"
      ],
      "metadata": {
        "id": "y0f2sW2QHf7t"
      }
    },
    {
      "cell_type": "code",
      "source": [
        "!ascli faspex5 packages receive \\\n",
        "  --url='https://faspex.cancerimagingarchive.net/aspera/faspex/public/package?context=eyJyZXNvdXJjZSI6InBhY2thZ2VzIiwidHlwZSI6ImV4dGVybmFsX2Rvd25sb2FkX3BhY2thZ2UiLCJpZCI6Ijc2MiIsInBhc3Njb2RlIjoiZDg0NmZlM2Q5ZjZjNzliYjUxYWU2MWMzNjJkNmE1ODJmMTc0YmVkYSIsInBhY2thZ2VfaWQiOiI3NjIiLCJlbWFpbCI6ImhlbHBAY2FuY2VyaW1hZ2luZ2FyY2hpdmUubmV0In0='"
      ],
      "metadata": {
        "id": "260sFaZam_SN",
        "outputId": "a2f64008-68d7-48a3-e1d6-c2727f451213",
        "colab": {
          "base_uri": "https://localhost:8080/"
        }
      },
      "execution_count": 2,
      "outputs": [
        {
          "output_type": "stream",
          "name": "stdout",
          "text": [
            "Receiving package 762\n",
            " Time: 00:00:03 =================================== 100% 274 Mbps Time: 00:00:03\n",
            "+---------+---------+\n",
            "| key     | value   |\n",
            "+---------+---------+\n",
            "| package | 762     |\n",
            "| status  | success |\n",
            "+---------+---------+\n"
          ]
        }
      ]
    },
    {
      "cell_type": "markdown",
      "source": [
        "# Acknowledgements\n",
        "TCIA is funded by the [Cancer Imaging Program (CIP)](https://imaging.cancer.gov/), a part of the United States [National Cancer Institute (NCI)](https://www.cancer.gov/).  It is managed by the [Frederick National Laboratory for Cancer Research (FNLCR)](https://frederick.cancer.gov/) and hosted by the [University of Arkansas for Medical Sciences (UAMS)](https://www.uams.edu/)\n",
        "\n",
        "This notebook was created by [Justin Kirby](https://www.linkedin.com/in/justinkirby82/), [Quasar Jarosz](https://www.linkedin.com/in/quasarjarosz/) and [Lawrence Tarbox](https://www.linkedin.com/in/lawrence-tarbox-088335/). If you leverage this notebook or any TCIA datasets in your work, please be sure to comply with the [TCIA Data Usage Policy](https://wiki.cancerimagingarchive.net/x/c4hF). In particular, make sure to cite the DOI(s) for the specific TCIA datasets you used in addition to the following paper!\n",
        "\n",
        "## TCIA Citation\n",
        "\n",
        "Clark, K., Vendt, B., Smith, K., Freymann, J., Kirby, J., Koppel, P., Moore, S., Phillips, S., Maffitt, D., Pringle, M., Tarbox, L., & Prior, F. (2013). The Cancer Imaging Archive (TCIA): Maintaining and Operating a Public Information Repository. Journal of Digital Imaging, 26(6), 1045–1057. https://doi.org/10.1007/s10278-013-9622-7"
      ],
      "metadata": {
        "id": "nah09wnJ825e"
      }
    }
  ]
}