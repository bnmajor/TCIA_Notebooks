{
  "cells": [
    {
      "cell_type": "markdown",
      "metadata": {
        "id": "cpb6dbKi6s4v"
      },
      "source": [
        "You can download and run this notebook locally, or you can run it for free in a cloud environment using Colab or Sagemaker Studio Lab:\n",
        "\n",
        "[![Open In Colab](https://colab.research.google.com/assets/colab-badge.svg)](https://colab.research.google.com/github/kirbyju/TCIA_Notebooks/blob/main/TCIA_REST_API_Queries.ipynb)\n",
        "\n",
        "[![Open In SageMaker Studio Lab](https://studiolab.sagemaker.aws/studiolab.svg)](https://studiolab.sagemaker.aws/import/github.com/kirbyju/TCIA_Notebooks/blob/main/TCIA_REST_API_Queries.ipynb)"
      ]
    },
    {
      "cell_type": "markdown",
      "metadata": {
        "id": "KmXfYFZtja2F"
      },
      "source": [
        "# Summary\n",
        "\n",
        "Access to large, high-quality datasets is essential for researchers to understand disease and precision medicine pathways, especially in cancer. However, HIPAA constraints make sharing medical images outside an individual institution complex. [The Cancer Imaging Archive (TCIA)](https://www.cancerimagingarchive.net/) is a public service funded by the National Cancer Institute that addresses this challenge by providing hosting and de-identification services that take major burdens of data sharing off researchers.\n",
        "\n",
        "**This notebook is focused on basic use cases for leveraging the REST APIs to execute queries to learn about TCIA datasets.**  If you're interested in additional TCIA notebooks and coding examples, check out the tutorials at https://github.com/kirbyju/TCIA_Notebooks."
      ]
    },
    {
      "cell_type": "markdown",
      "metadata": {
        "id": "AruUGe3lmjkh"
      },
      "source": [
        "# 1 Learn about Available Collections on the TCIA Website\n",
        "\n",
        "[Browsing Collections](https://www.cancerimagingarchive.net/collections) and viewing [Analysis Results](https://www.cancerimagingarchive.net/tcia-analysis-results/) of TCIA datasets are the easiest ways to become familiar with what is available. These pages will help you quickly identify datasets of interest, find valuable supporting data that are not available via our APIs (e.g. clinical spreadsheets and non-DICOM segmentation data), and answer the most common questions you might have about the datasets.  "
      ]
    },
    {
      "cell_type": "markdown",
      "metadata": {
        "id": "SmeqJoR5k9z0"
      },
      "source": [
        "# 2 REST API Overview\n",
        "TCIA uses software called NBIA to manage DICOM data. The NBIA REST APIs are provided for the search and download functions used in the TCIA radiology portal and allow access to both public and limited access collections.\n",
        "1. The [NBIA Search REST APIs](https://wiki.cancerimagingarchive.net/x/fILTB) allow you to perform basic queries and download data from **public** collections. These APIs do not require a TCIA account.\n",
        "2. The [NBIA Search with Authentication REST APIs](https://wiki.cancerimagingarchive.net/x/X4ATBg) allow you to perform basic queries and download data from **public and limited-access** collections. These APIs require a TCIA account to create authentication tokens.\n",
        "3. The [NBIA Advanced REST APIs](https://wiki.cancerimagingarchive.net/x/YoATBg) also allow access to **public and limited-access** collections, but provide query endpoints mostly geared towards developers seeking to integrate searching and downloading TCIA data into web and desktop applications. This API requires a TCIA account to create authentication tokens."
      ]
    },
    {
      "cell_type": "markdown",
      "metadata": {
        "id": "bqulqBEDMSS6"
      },
      "source": [
        "# 3 Import tcia_utils\n",
        "\n",
        "The following cells import [**tcia_utils**](https://github.com/kirbyju/tcia_utils) which contain a variety of useful functions for accessing TCIA via Jupyter/Python. We'll step through many of its functions in the following section.\n",
        "\n",
        "By default, most functions from tcia_utils return results in JSON.  However, you can use **format = \"df\"** to return the results as a dataframe, or **format = \"csv\"** to save a CSV file in addition to returning a dataframe.\n",
        "\n",
        "Nearly all functions allow you to specify **api_url** as a query parameter.  This allows you to specify if you'd like to access restricted collections or the [National Lung Screening Trial (NLST)](https://doi.org/10.7937/TCIA.HMQ8-J677) collection, which lives on a separate server due to its size (>26,000 patients!).  We'll provide examples to show how this works later in the notebook.\n"
      ]
    },
    {
      "cell_type": "code",
      "execution_count": null,
      "metadata": {
        "id": "YPrZ5pc-yYQl"
      },
      "outputs": [],
      "source": [
        "!pip install --upgrade -q tcia-utils\n",
        "!pip install -q pandas"
      ]
    },
    {
      "cell_type": "code",
      "execution_count": null,
      "metadata": {
        "id": "p3zEqnxi9rk2",
        "tags": []
      },
      "outputs": [],
      "source": [
        "# imports\n",
        "import requests\n",
        "import pandas as pd\n",
        "from tcia_utils import nbia"
      ]
    },
    {
      "cell_type": "markdown",
      "metadata": {
        "id": "iao1mstCf8Vl"
      },
      "source": [
        "# 4 Query Examples"
      ]
    },
    {
      "cell_type": "markdown",
      "metadata": {
        "id": "fwj_OZjphcWP"
      },
      "source": [
        "## 4.1 getCollections()\n",
        "The **getCollections()** function returns a list of collections.  "
      ]
    },
    {
      "cell_type": "code",
      "execution_count": null,
      "metadata": {
        "id": "II1o1709zq1d"
      },
      "outputs": [],
      "source": [
        "nbia.getCollections()\n"
      ]
    },
    {
      "cell_type": "markdown",
      "metadata": {
        "id": "1amXAIvsgQLg"
      },
      "source": [
        "## 4.2 getBodyPart()\n",
        "The **getBodyPart()** function returns a list of available body parts that were examined. Query parameters include **collection** and **modality**.\n",
        "\n",
        "Let's look at the **TCGA-LUAD** collection from the list above and find out more about what body parts were examined."
      ]
    },
    {
      "cell_type": "code",
      "execution_count": null,
      "metadata": {
        "id": "aQBt2TrC6m0H"
      },
      "outputs": [],
      "source": [
        "nbia.getBodyPart(collection = \"TCGA-LUAD\")"
      ]
    },
    {
      "cell_type": "markdown",
      "metadata": {
        "id": "yHVRFNRWt26D"
      },
      "source": [
        "## 4.3 getModality()\n",
        "The **getModality()** function returns a list of available modalities. Query parameters include **collection** and **bodyPart**."
      ]
    },
    {
      "cell_type": "code",
      "execution_count": null,
      "metadata": {
        "id": "0koEKWjmieYM"
      },
      "outputs": [],
      "source": [
        "nbia.getModality(collection = \"TCGA-LUAD\")"
      ]
    },
    {
      "cell_type": "markdown",
      "metadata": {
        "id": "1EHAjkALWsGH"
      },
      "source": [
        "## 4.4 getPatient()\n",
        "The **getPatient()** function returns available patient information (e.g. species, gender, and ethnicity). You can also learn whether the subject is a [phantom](https://www.nist.gov/physics/what-are-imaging-phantoms) or not.  The only query parameter for this function is **collection**.\n",
        "\n",
        "Let's try looking at the **CPTAC-LUAD** collection this time.  We'll also set the output format to a dataframe to make it easier to view."
      ]
    },
    {
      "cell_type": "code",
      "execution_count": null,
      "metadata": {
        "id": "k4Ge-Z-9H_hr"
      },
      "outputs": [],
      "source": [
        "df = nbia.getPatient(collection = \"CPTAC-LUAD\", format = \"df\")\n",
        "display(df)"
      ]
    },
    {
      "cell_type": "markdown",
      "metadata": {
        "id": "kv8RCpe30TR8"
      },
      "source": [
        "Here's an example that does the same thing with the [National Lung Screening Trial (NLST) Collection](https://doi.org/10.7937/TCIA.HMQ8-J677).  In this case we have to set **api_url = \"nlst\"** to talk to the NLST server, but everything else works the same."
      ]
    },
    {
      "cell_type": "code",
      "execution_count": null,
      "metadata": {
        "id": "gMC3WCQ20cfd"
      },
      "outputs": [],
      "source": [
        "df = nbia.getPatient(collection = \"NLST\", format = \"df\", api_url = \"nlst\")\n",
        "display(df)"
      ]
    },
    {
      "cell_type": "markdown",
      "metadata": {
        "id": "XbecJEQGfZ5y"
      },
      "source": [
        "## 4.5 getStudy()\n",
        "\n",
        "The **getStudy()** function returns study/visit details such as the anonymized study date, subject's age at the time of visit, and number of scans acquired at each timepoin. Query parameters include **collection (required)**, **patientId**, and **studyUid**."
      ]
    },
    {
      "cell_type": "code",
      "execution_count": null,
      "metadata": {
        "id": "ivLAjjuK8nPv"
      },
      "outputs": [],
      "source": [
        "df = nbia.getStudy(collection = \"CPTAC-LUAD\", format = \"df\")\n",
        "display(df)"
      ]
    },
    {
      "cell_type": "markdown",
      "metadata": {
        "id": "bEbkXARGg6W6"
      },
      "source": [
        "## 4.6 getSeries()\n",
        "\n",
        "The **getSeries()** function returns metadata about each scan in the dataset (e.g. series description, modality, scanner manufacturer and software version, number of images). Query parameters include **collection**, **patientId**, **studyUid**, **seriesUid**, **modality**, **bodyPart**, **manufacturer**, and **manufacturerModel**.  This time let's set the format to **CSV**.  Note that the file is saved as **getSeries.csv**."
      ]
    },
    {
      "cell_type": "code",
      "execution_count": null,
      "metadata": {
        "id": "M34I2o90kofo"
      },
      "outputs": [],
      "source": [
        "df = nbia.getSeries(collection = \"CPTAC-LUAD\", format = \"csv\")\n",
        "display(df)"
      ]
    },
    {
      "cell_type": "markdown",
      "metadata": {
        "id": "3IPI3xhpXggi"
      },
      "source": [
        "## 4.7 getSharedCart()\n",
        "You can use https://nbia.cancerimagingarchive.net to create a \"[Shared Cart](https://wiki.cancerimagingarchive.net/display/NBIA/TCIA+Radiology+Portal+User+Guide#TCIARadiologyPortalUserGuide-SharingDatainYourCart)\" which includes a specific set of scans you'd like to share with others. After creating a Shared Cart you receive a URL like https://nbia.cancerimagingarchive.net/nbia-search/?saved-cart=nbia-49121659384603347.  Try clicking the link to see what this looks like on the TCIA website.  Then use the code below to see how you can use the cart name at the end of the URL to access the related scans via the API."
      ]
    },
    {
      "cell_type": "code",
      "execution_count": null,
      "metadata": {
        "id": "0TON4AUIXtO9"
      },
      "outputs": [],
      "source": [
        "df = nbia.getSharedCart(name = \"nbia-49121659384603347\", format = \"df\")\n",
        "display(df)"
      ]
    },
    {
      "cell_type": "markdown",
      "metadata": {
        "tags": [],
        "id": "F02yh6KW2hGR"
      },
      "source": [
        "## 4.8 getSimpleSearchWithModalityAndBodyPartPaged()\n",
        "The **getSimpleSearchWithModalityAndBodyPartPaged()** function retrieves a list of subjects based on searching criteria entered.<br>\n",
        "Avaliable filters are:\n",
        ">1. collections: list[str]   -- The DICOM collections of interest to you\n",
        ">2. species: list[str]       -- Filter collections by species. Possible values are 'human', 'mouse', and 'dog'\n",
        ">3. modalities: list[str]    -- Filter collections by modality\n",
        ">4. modalityAnded: bool      -- If true, only return subjects with all requested modalities, as opposed to any\n",
        ">5. minStudies: int          -- The minimum number of studies a collection must have to be included in the results\n",
        ">6.manufacturers: list[str] -- Imaging device manufacturers, e.g. SIEMENS\n",
        ">7. bodyParts: list[str]     -- Body parts of interest, e.g. CHEST, ABDOMEN\n",
        ">8. fromDate: str            -- First cutoff date, in YYYY/MM/DD format. Defaults to 1900/01/01\n",
        ">9. toDate: str              -- Second cutoff date, in YYYY/MM/DD format. Defaults to today's date\n",
        ">10. patients: list[str]      -- Patients to include in the output\n",
        ">11. start: int               -- Start of returned series page. Defaults to 0.\n",
        ">12. size: int                -- Size of returned series page. Defaults to 10.\n",
        "\n",
        "Avaliable sorting options are:\n",
        ">1. sortDirection            -- 'ascending' or 'descending'. Defaults to 'ascending'.\n",
        ">2. sortField                -- 'subject', 'studies', 'series', or 'collection'. Defaults to 'subject'."
      ]
    },
    {
      "cell_type": "markdown",
      "metadata": {
        "id": "eNtGKCgA2hGR"
      },
      "source": [
        "If we want to find human subjects with chest CT images."
      ]
    },
    {
      "cell_type": "code",
      "execution_count": null,
      "metadata": {
        "id": "6TuwiwCL2hGS"
      },
      "outputs": [],
      "source": [
        "nbia.getSimpleSearchWithModalityAndBodyPartPaged(species = [\"human\"], modalities = [\"CT\"], bodyParts = [\"CHEST\"])"
      ]
    },
    {
      "cell_type": "markdown",
      "metadata": {
        "id": "W-12Evnl2hGS"
      },
      "source": [
        "Or if we want to find all records for a patient."
      ]
    },
    {
      "cell_type": "code",
      "execution_count": null,
      "metadata": {
        "tags": [],
        "id": "ulLCBkT62hGS"
      },
      "outputs": [],
      "source": [
        "nbia.getSimpleSearchWithModalityAndBodyPartPaged(patients = [\"C3N-00843\"])"
      ]
    },
    {
      "cell_type": "markdown",
      "metadata": {
        "id": "lFWlKrr22hGS"
      },
      "source": [
        "We can also narrow our subject list by using the date parameters."
      ]
    },
    {
      "cell_type": "code",
      "execution_count": null,
      "metadata": {
        "tags": [],
        "id": "FsJMeUmA2hGS"
      },
      "outputs": [],
      "source": [
        "nbia.getSimpleSearchWithModalityAndBodyPartPaged(fromDate = \"2000/01/01\", toDate = \"2020/01/01\")"
      ]
    },
    {
      "cell_type": "markdown",
      "metadata": {
        "id": "QmhsXWTg2hGS"
      },
      "source": [
        "Sorting and specifying the page number and page size are useful ways to rearrange the results."
      ]
    },
    {
      "cell_type": "code",
      "execution_count": null,
      "metadata": {
        "tags": [],
        "id": "L6r64wyd2hGS"
      },
      "outputs": [],
      "source": [
        "nbia.getSimpleSearchWithModalityAndBodyPartPaged(collections = [\"CPTAC-SAR\"], size = 20, start = 2, sortDirection = \"descending\", sortField = \"series\")"
      ]
    },
    {
      "cell_type": "markdown",
      "metadata": {
        "id": "uuKRVIXZOmY3"
      },
      "source": [
        "# 5 Functions to analyze query results\n",
        "\n",
        "Here we'll briefly discuss a couple of special functions in **tcia_utils** that can help further assist you in understanding your query results before you decide to download the data."
      ]
    },
    {
      "cell_type": "markdown",
      "metadata": {
        "id": "2XBUmpUnUfGX"
      },
      "source": [
        "## 5.1 makeSeriesReport()\n",
        "\n",
        "This function ingests the JSON output from **getSeries()** or **getSharedCart()** and creates summary report.  Let's try it using the Shared Cart results that we looked at in our last query."
      ]
    },
    {
      "cell_type": "code",
      "execution_count": null,
      "metadata": {
        "id": "bEyvI4OHU3FC"
      },
      "outputs": [],
      "source": [
        "data = nbia.getSharedCart(name = \"nbia-49121659384603347\")\n",
        "\n",
        "nbia.makeSeriesReport(data)"
      ]
    },
    {
      "cell_type": "markdown",
      "metadata": {
        "id": "6xPLeIm4OOgv"
      },
      "source": [
        "## 5.2 makeVizLinks()\n",
        "This function ingests JSON output from **getSeries()** or **getSharedCart()**  and creates URLs to visualize them in a browser.  The links appear in the last 2 columns of the dataframe.  \n",
        "\n",
        "The TCIA column displays the individual series described in each row.  The [Imaging Data Commons (IDC)](https://portal.imaging.datacommons.cancer.gov/) column displays the entire study (all series/scans from that time point).  The function accepts a **csv_filename** parameter if you'd like to save a CSV file of the output.  It just returns the dataframe if this is ommitted.\n",
        "\n",
        "There are a few caveats worth noting about this function:\n",
        "* Modalities such as SEG/RTSTRUCT will not load using the TCIA series viewer, but opening the entire study with the IDC viewer generally enables you to see RTSTRUCT/SEG annotations overlaid on top of the images they were derived from.\n",
        "* IDC links may not work if they haven't mirrored the series from TCIA yet. Here is the [list of the collections](https://portal.imaging.datacommons.cancer.gov/collections/) they currently host.\n",
        "* The visualization URLs only work if the series/study you selected is from a fully public dataset. Visualization of limited-access collections is not currently supported."
      ]
    },
    {
      "cell_type": "code",
      "execution_count": null,
      "metadata": {
        "id": "bksaRXlOOPFG"
      },
      "outputs": [],
      "source": [
        "# use getSeries() to identify some scans of interest\n",
        "data = nbia.getSeries(collection = \"CPTAC-LUAD\", modality = \"CT\")\n",
        "\n",
        "# create a dataframe and CSV file visualization links\n",
        "nbia.makeVizLinks(data, csv_filename=\"viz_links\")"
      ]
    },
    {
      "cell_type": "markdown",
      "metadata": {
        "id": "rDlG-4MZZ2wX"
      },
      "source": [
        "# 6 Querying \"Limited Access\" Collections (optional)\n",
        "In some cases, you must specifically request access to collections before you can download them.  These are listed as **limited access** on the [Browse Collections](https://www.cancerimagingarchive.net/collections/) page.\n",
        "\n",
        "The steps to request access may vary depending on the collection, but will always require that you first [create a TCIA user account](https://wiki.cancerimagingarchive.net/x/xgHDAg). Once you've created an account and have access to restricted collections you can use your login/password to create an API token with the **getToken()** function from **tcia_utils** to verify your permissions. **<font color='red'>Tokens are valid for 2 hours and must be refreshed after that point.</font>**"
      ]
    },
    {
      "cell_type": "code",
      "execution_count": null,
      "metadata": {
        "id": "ZzwyJcNYIIsq"
      },
      "outputs": [],
      "source": [
        "nbia.getToken()"
      ]
    },
    {
      "cell_type": "markdown",
      "metadata": {
        "id": "f1NLNszIIKOS"
      },
      "source": [
        "Let's say that we're interested in the [QIN-Breast-02](https://doi.org/10.7937/TCIA.2019.4cfm06rr) collection. As you can see on the collection page, you must email help@cancerimagingarchive.net to request access to the data. Once you've recieved approval we can use **nbia.getSeries()** to get a full list of series UIDs in this restricted collection by including **api_url = \"restricted\"** as a parameter."
      ]
    },
    {
      "cell_type": "code",
      "execution_count": null,
      "metadata": {
        "id": "rGfTVswGnIVG"
      },
      "outputs": [],
      "source": [
        "# getSeries with query parameters\n",
        "df = nbia.getSeries(collection = \"QIN-Breast-02\",\n",
        "                      format = \"df\",\n",
        "                      api_url = \"restricted\")\n",
        "display(df)"
      ]
    },
    {
      "cell_type": "markdown",
      "metadata": {
        "id": "tH2FDgWPnXb3"
      },
      "source": [
        "**Note:** If you'd like to do further exploration of restricted datasets, you can modify any of the previously discussed queries in the notebook by adding the **api_url = \"restricted\"** parameter as shown above."
      ]
    },
    {
      "cell_type": "markdown",
      "metadata": {
        "id": "0TjIRzCEEIFB"
      },
      "source": [
        "# 7 Downloading Data\n",
        "Once you've mastered querying for data the next logical step would be to download it.  You can learn more about how to download, visualize and analyze TCIA data in the other notebooks at https://github.com/kirbyju/TCIA_Notebooks."
      ]
    },
    {
      "cell_type": "markdown",
      "metadata": {
        "id": "DYXsNGcY93B8"
      },
      "source": [
        "# Acknowledgements\n",
        "TCIA is funded by the [Cancer Imaging Program (CIP)](https://imaging.cancer.gov/), a part of the United States [National Cancer Institute (NCI)](https://www.cancer.gov/).  It is managed by the [Frederick National Laboratory for Cancer Research (FNLCR)](https://frederick.cancer.gov/) and hosted by the [University of Arkansas for Medical Sciences (UAMS)](https://www.uams.edu/)\n",
        "\n",
        "This notebook was created by [Justin Kirby](https://www.linkedin.com/in/justinkirby82/). If you leverage this notebook or any TCIA datasets in your work, please be sure to comply with the [TCIA Data Usage Policy](https://wiki.cancerimagingarchive.net/x/c4hF). In particular, make sure to cite the DOI(s) for the specific TCIA datasets you used in addition to the following paper!\n",
        "\n",
        "## TCIA Citation\n",
        "\n",
        "Clark, K., Vendt, B., Smith, K., Freymann, J., Kirby, J., Koppel, P., Moore, S., Phillips, S., Maffitt, D., Pringle, M., Tarbox, L., & Prior, F. (2013). The Cancer Imaging Archive (TCIA): Maintaining and Operating a Public Information Repository. Journal of Digital Imaging, 26(6), 1045–1057. https://doi.org/10.1007/s10278-013-9622-7"
      ]
    }
  ],
  "metadata": {
    "colab": {
      "provenance": []
    },
    "kernelspec": {
      "display_name": "Python 3 (ipykernel)",
      "language": "python",
      "name": "python3"
    },
    "language_info": {
      "codemirror_mode": {
        "name": "ipython",
        "version": 3
      },
      "file_extension": ".py",
      "mimetype": "text/x-python",
      "name": "python",
      "nbconvert_exporter": "python",
      "pygments_lexer": "ipython3",
      "version": "3.9.16"
    }
  },
  "nbformat": 4,
  "nbformat_minor": 0
}