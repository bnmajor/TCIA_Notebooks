{
  "nbformat": 4,
  "nbformat_minor": 0,
  "metadata": {
    "colab": {
      "provenance": [],
      "collapsed_sections": [
        "SmeqJoR5k9z0",
        "CSTkcuXMgCDd",
        "7YGlC_ajggC8",
        "nj6P7YCmll4S",
        "I9_O-nq1lr7c",
        "JkCZMxa_ua6P",
        "BJEBAyTyqcU5",
        "YMIPh4vzqfN5",
        "9Zp_hWmXsKZ9"
      ],
      "toc_visible": true
    },
    "kernelspec": {
      "name": "python3",
      "display_name": "Python 3"
    },
    "language_info": {
      "name": "python"
    }
  },
  "cells": [
    {
      "cell_type": "markdown",
      "source": [
        "You can download and run this notebook locally, or you can run it for free in a cloud environment using Colab or Sagemaker Studio Lab:\n",
        "\n",
        "[![Open In Colab](https://colab.research.google.com/assets/colab-badge.svg)](https://colab.research.google.com/github/kirbyju/TCIA_Notebooks/blob/main/CPTAC/CPTAC.ipynb)\n",
        "\n",
        "[![Open In SageMaker Studio Lab](https://studiolab.sagemaker.aws/studiolab.svg)](https://studiolab.sagemaker.aws/import/github.com/kirbyju/TCIA_Notebooks/blob/main/CPTAC/CPTAC.ipynb)"
      ],
      "metadata": {
        "id": "zhJ1PywgTDmh"
      }
    },
    {
      "cell_type": "markdown",
      "source": [
        "# Accessing DICOM images and annotations from the CPTAC datasets hosted on TCIA\n",
        "\n",
        "This notebook is focused on accessing the **\"Clinical Proteomic Tumor Analysis Consortium\"** collections hosted on [The Cancer Imaging Archive(TCIA)](https://cancerimagingarchive.net).  These datasets include radiology and histopathology images hosted on TCIA as well as proteomic, genomic and clinical data hosted in the Proteomic Data Commons and Genomic Data Commons.  The National Cancer Institute has also funded an activity to generate and publish annotations (3d segmentation labels and seed points) on TCIA to help jumpstart research on tumor detection, auto-segmentation methods and generating related imaging features which can be compared with the proteomic, genomic and clinical data.  \n",
        "\n",
        "**Note:** Users of this notebook will likely find the [CPTAC python package](https://github.com/PayneLab/cptac) useful for working with the non-image data types.\n"
      ],
      "metadata": {
        "id": "KmXfYFZtja2F"
      }
    },
    {
      "cell_type": "markdown",
      "source": [
        "# 1 Learn about the datasets\n",
        "\n",
        "The images, annotations (tumor segmentation and seed point labels), and other related data are described in detail at the following links.  These pages are publicly visible without logging in:\n",
        "\n",
        "1. [CPTAC-UCEC](https://doi.org/10.7937/89M3-KQ43): Corpus Endometrial Carcinoma\n",
        "2. [CPTAC-PDA](https://doi.org/10.7937/BW9V-BX61): Pancreatic Ductal Adenocarcinoma\n",
        "3. [CPTAC-CCRCC](https://doi.org/10.7937/SKQ4-QX48): Clear Cell Renal Carcinoma\n",
        "4. [CPTAC-HNSCC](https://doi.org/10.7937/PFEC-T641): Head and Neck Squamous Cell Carcinoma **(restricted access - requires extra steps below)**\n",
        "\n",
        "The data in the CPTAC-HNSCC collection contains images that could potentially be used to reconstruct a human face. To safeguard the privacy of participants, users must sign and submit a [TCIA Restricted License Agreement](https://wiki.cancerimagingarchive.net/download/attachments/4556915/TCIA%20Restricted%20License%2020220519.pdf?version=1&modificationDate=1652964581655&api=v2) to help@cancerimagingarchive.net before accessing the image data used to create the tumor annotations.  \n",
        "\n",
        "After taking a look at these collections, select the one you'd like to explore through the rest of this notebook by setting the collection variable below."
      ],
      "metadata": {
        "id": "AruUGe3lmjkh"
      }
    },
    {
      "cell_type": "code",
      "source": [
        "collection = \"CPTAC-PDA\""
      ],
      "metadata": {
        "id": "HEp_1Himy_R_"
      },
      "execution_count": null,
      "outputs": []
    },
    {
      "cell_type": "markdown",
      "source": [
        "# 2 Setup\n",
        "\n",
        "The following imports **[tcia_utils](https://pypi.org/project/tcia-utils/)**, which contains a variety of useful functions for accessing TCIA via Python and Juptyter Notebooks."
      ],
      "metadata": {
        "id": "bqulqBEDMSS6"
      }
    },
    {
      "cell_type": "code",
      "source": [
        "!pip install --upgrade -q tcia_utils\n",
        "!pip install -q pandas"
      ],
      "metadata": {
        "id": "zP4VRfgg-QXU"
      },
      "execution_count": null,
      "outputs": []
    },
    {
      "cell_type": "code",
      "source": [
        "import requests\n",
        "import pandas as pd\n",
        "from tcia_utils import nbia"
      ],
      "metadata": {
        "id": "p3zEqnxi9rk2"
      },
      "execution_count": null,
      "outputs": []
    },
    {
      "cell_type": "markdown",
      "source": [
        "### Set logging level to INFO (optional)\n",
        "This step isn't necessary on local Jupyter Labs, but Google Colab's logging root handler only shows warnings and errors by default.  If you'd like to see INFO statements you can run the following code.  This is particularly helpful when running some of the API examples so you can see the progress as downloads complete and a requirement if you want to see the output of the makeSeriesReport() example."
      ],
      "metadata": {
        "id": "4EB4OlFNE1EK"
      }
    },
    {
      "cell_type": "code",
      "source": [
        "import logging\n",
        "\n",
        "# Check current handlers\n",
        "#print(logging.root.handlers)\n",
        "\n",
        "# Remove all handlers associated with the root logger object.\n",
        "for handler in logging.root.handlers[:]:\n",
        "    logging.root.removeHandler(handler)\n",
        "#print(logging.root.handlers)\n",
        "\n",
        "# Set handler with level = info\n",
        "logging.basicConfig(format='%(asctime)s:%(levelname)s:%(message)s',\n",
        "                    level=logging.INFO)\n",
        "\n",
        "print(\"Logging set to INFO\")"
      ],
      "metadata": {
        "id": "y4bh_j40-fia"
      },
      "execution_count": null,
      "outputs": []
    },
    {
      "cell_type": "markdown",
      "source": [
        "# 3 Downloading images and annotations with the NBIA Data Retriever\n",
        "\n",
        "TCIA uses software called NBIA to manage its DICOM data.  One way to download TCIA data is to install the NBIA Data Retriever.  This tool provides a number of useful features such as auto-retry if there are any problems, saving data in an organized hierarchy on your hard drive (Collection > Patient > Study > Series > Images), and providing a CSV file containing key DICOM metadata about the images you've downloaded.\n",
        "\n",
        "_**Note:**_ It's also possible to download these data via our REST API if you can't or don't want to install the NBIA Data Retriever. This is covered later in the notebook."
      ],
      "metadata": {
        "id": "eRvQa63-kJIY"
      }
    },
    {
      "cell_type": "markdown",
      "source": [
        "## 3.1 Install the NBIA Data Retriever CLI package\n",
        "There are versions of this tool for Windows, Mac and Linux.  If you're working from a system with a GUI please follow the [instructions](https://wiki.cancerimagingarchive.net/display/NBIA/Downloading+TCIA+Images) to install Data Retriever on your computer and then return to the notebook.\n",
        "\n",
        "There is also a [Linux command-line version of the NBIA Data Retriever](https://wiki.cancerimagingarchive.net/x/2QKPBQ) which can be installed via the steps below.  "
      ],
      "metadata": {
        "id": "RtLE_18NoaJ8"
      }
    },
    {
      "cell_type": "code",
      "metadata": {
        "id": "B714bOkDk8kd"
      },
      "source": [
        "# Install NBIA Data Retriever CLI software for downloading images later in this notebook.\n",
        "\n",
        "!mkdir /usr/share/desktop-directories/\n",
        "!wget -P /content/NBIA-Data-Retriever https://cbiit-download.nci.nih.gov/nbia/releases/ForTCIA/NBIADataRetriever_4.4/nbia-data-retriever-4.4.2.deb\n",
        "!dpkg -i /content/NBIA-Data-Retriever/nbia-data-retriever-4.4.2.deb\n",
        "\n",
        "# NOTE: If you're working on a Linux OS that uses RPM packages, you can change the lines above to use\n",
        "#       https://cbiit-download.nci.nih.gov//nbia/releases/ForTCIA/NBIADataRetriever_4.4/NBIADataRetriever-4.4-2.x86_64.rpm"
      ],
      "execution_count": null,
      "outputs": []
    },
    {
      "cell_type": "markdown",
      "source": [
        "## 3.2 Download data\n",
        "Next we'll go over the ways to use the Data Retriever to download data.  After your download completes, stop and take a look at how the data are organized and review the metadata CSV file before moving on."
      ],
      "metadata": {
        "id": "Ts_aUgA1kJIZ"
      }
    },
    {
      "cell_type": "markdown",
      "source": [
        "## 3.2.1 Download a manifest file to use with Data Retriever\n",
        "The NBIA Data Retriever software works by ingesting a \"manifest\" file that contains the DICOM Series Instance UIDs of the scans you want to download. We'll use some smaller manifests here that contain sample data for a single subject.  When you're ready to download the full dataset(s) you can obtain the manifests you are interested in from the summary pages mentioned in section 1."
      ],
      "metadata": {
        "id": "Q_YFAXQGp98d"
      }
    },
    {
      "cell_type": "code",
      "source": [
        "manifest_urls = {\n",
        "    \"CPTAC-CCRCC\": \"https://github.com/kirbyju/TCIA_Notebooks/raw/main/CPTAC/CPTAC-CCRCC-demo.tcia\",\n",
        "    \"CPTAC-PDA\": \"https://github.com/kirbyju/TCIA_Notebooks/raw/main/CPTAC/CPTAC-PDA-demo.tcia\",\n",
        "    \"CPTAC-HNSCC\": \"https://github.com/kirbyju/TCIA_Notebooks/raw/main/CPTAC/CPTAC-HNSCC-demo.tcia\",\n",
        "    \"CPTAC-UCEC\": \"https://github.com/kirbyju/TCIA_Notebooks/raw/main/CPTAC/CPTAC-UCEC-demo.tcia\"\n",
        "}\n",
        "\n",
        "if collection in manifest_urls:\n",
        "    manifest_url = manifest_urls[collection]\n",
        "    manifest_filename = \"CPTAC-demo.tcia\"\n",
        "    manifest = requests.get(manifest_url)\n",
        "    with open(manifest_filename, 'wb') as f:\n",
        "        f.write(manifest.content)\n",
        "    print(\"Manifest file saved as \" + manifest_filename)\n",
        "else:\n",
        "    print(\"URL for collection not found.\")"
      ],
      "metadata": {
        "id": "79U4HF5hyu3t"
      },
      "execution_count": null,
      "outputs": []
    },
    {
      "cell_type": "markdown",
      "source": [
        "## 3.2.2 Using the GUI version of NBIA Data Retriever\n",
        "If you installed the GUI version of Data Retriever earlier you can now start your download by double clicking on the manifest file we downloaded in the previous step.\n",
        "\n",
        "**Note:** If you selected CPTAC-HNSCC the Data Retriever will ask you for your login credentials upon launching."
      ],
      "metadata": {
        "id": "FbQh6qrJqQaz"
      }
    },
    {
      "cell_type": "markdown",
      "source": [
        "## 3.3.3 Using the Linux CLI version of NBIA Data Retriever\n",
        "If you chose CPTAC-HNSCC for the demo, we'll use the **nbia.makeCredentialFile()** function to create a credential file with your user name and password and pass the path to that file as a parameter when we launch NBIA Data Retriever.  This step can be skipped if you selected one of the fully public collections.\n",
        "\n",
        "**Note:** You may need to update paths below depending on where you installed Data Retriever or saved the manifest/credential files.\n",
        "\n",
        "**<font color='red'>After running the following command, click in the output cell, type \"y,\" and press Enter to agree with the TCIA Data Usage Policy and start the download.</font>**"
      ],
      "metadata": {
        "id": "kf0ChJoyqnUq"
      }
    },
    {
      "cell_type": "code",
      "source": [
        "if collection == \"CPTAC-HNSCC\":\n",
        "    # Log in with your TCIA account to create a credential file\n",
        "    nbia.makeCredentialFile()\n",
        "    # this will include the credential file we created earlier as the final parameter\n",
        "    !/opt/nbia-data-retriever/nbia-data-retriever --cli '/content/CPTAC-demo.tcia' -d /content/ -l /content/credentials.txt\n",
        "else:\n",
        "    !/opt/nbia-data-retriever/nbia-data-retriever --cli '/content/CPTAC-demo.tcia' -d /content/"
      ],
      "metadata": {
        "id": "XsgWyA2hkJIZ"
      },
      "execution_count": null,
      "outputs": []
    },
    {
      "cell_type": "markdown",
      "metadata": {
        "id": "OVOOJWDckJIa"
      },
      "source": [
        "# 4 Accessing the REST APIs\n",
        "The [NBIA REST APIs](https://wiki.cancerimagingarchive.net/x/ZoATBg) are another useful way for TCIA users to query metadata and download image data.  We'll rely heavily on [tcia_utils](https://pypi.org/project/tcia-utils/) to simplify accessing them.\n",
        "\n",
        "Before we get started, we need to set the api_url parameter to \"restricted\" and create an API access token for those of you accessing CPTAC-HNSCC.  If you selected a different collection, this will just set the api_url parameter to access the public APIs that don't require logging in."
      ]
    },
    {
      "cell_type": "code",
      "source": [
        "if collection == \"CPTAC-HNSCC\":\n",
        "    api_url = \"restricted\"\n",
        "    nbia.getToken()\n",
        "else:\n",
        "    api_url = \"\""
      ],
      "metadata": {
        "id": "HaR2eLw8E6FZ"
      },
      "execution_count": null,
      "outputs": []
    },
    {
      "cell_type": "markdown",
      "source": [
        "## 4.1 Explore the data with REST API queries\n",
        "\n",
        "Let's start by looking at what body parts and modalities are contained in the collection.  For these datasets, RTSTRUCTs were used to record  the segmentations and seed points as well as to indicate scans where no tumor was found. By default, most functions from **tcia_utils** return results in JSON."
      ],
      "metadata": {
        "id": "g6D_3Dn7kJIa"
      }
    },
    {
      "cell_type": "code",
      "source": [
        "# count patients for each modality\n",
        "data = nbia.getModalityCounts(collection)\n",
        "print(data)"
      ],
      "metadata": {
        "id": "oLDN4BAhbhvZ"
      },
      "execution_count": null,
      "outputs": []
    },
    {
      "cell_type": "markdown",
      "source": [
        "However, you can also use **format = \"df\"** to return the results as a dataframe."
      ],
      "metadata": {
        "id": "VFrw8FAlkY8x"
      }
    },
    {
      "cell_type": "code",
      "source": [
        "# Count patients for each body part examined,\n",
        "# return results as dataframe\n",
        "df = nbia.getBodyPartCounts(collection, format = \"df\")\n",
        "\n",
        "# rename headers and sort by PatientCount\n",
        "df.rename(columns = {'criteria':'BodyPartExamined', 'count':'PatientCount'}, inplace = True)\n",
        "df.PatientCount = df.PatientCount.astype(int)\n",
        "display(df.sort_values(by='PatientCount', ascending=False, ignore_index = True))"
      ],
      "metadata": {
        "id": "_FZqff2fkJIa"
      },
      "execution_count": null,
      "outputs": []
    },
    {
      "cell_type": "markdown",
      "source": [
        "Now let's run **nbia.getPatient()** and **nbia.getStudy()** to see what we can learn about the patient cohort from the DICOM metadata.  The patient information can include things like age, gender, and ethnicity. The study information includes additional information recorded on the date the patient was scanned such as the patient's age or how many days it has been since they were diagnosed."
      ],
      "metadata": {
        "id": "OJQQ4-_ZkJIa"
      }
    },
    {
      "cell_type": "code",
      "source": [
        "df = nbia.getPatient(collection, format = \"df\", api_url = api_url)\n",
        "\n",
        "display(df)"
      ],
      "metadata": {
        "id": "XUBlXp7P_JI8"
      },
      "execution_count": null,
      "outputs": []
    },
    {
      "cell_type": "markdown",
      "source": [
        "Let's use **format = \"csv\"** this time to save a CSV file in addition to returning a dataframe.  Verify that **getPatientStudy.csv** has been saved to your file system before proceeding."
      ],
      "metadata": {
        "id": "-IkG3w4Xb6W7"
      }
    },
    {
      "cell_type": "code",
      "source": [
        "# obtain study/visit details (e.g. anonymized study date, age at the time of visit)\n",
        "df = nbia.getStudy(collection, format = \"csv\", api_url = api_url)\n",
        "display(df)"
      ],
      "metadata": {
        "id": "5Kn8nhMSB5u1"
      },
      "execution_count": null,
      "outputs": []
    },
    {
      "cell_type": "markdown",
      "source": [
        "We can also create a report with **nbia.getSeries()** that gives useful metadata about each scan in the dataset (e.g. series description, modality, scanner manufacturer & software version, number of images)."
      ],
      "metadata": {
        "id": "BahXeSfFkJIb"
      }
    },
    {
      "cell_type": "code",
      "source": [
        "# obtain scan/series metadata and save to variable for use in next example\n",
        "data = nbia.getSeries(collection, api_url = api_url, format = \"df\")\n",
        "\n",
        "display(data)"
      ],
      "metadata": {
        "id": "VQVbwxCEkJIb"
      },
      "execution_count": null,
      "outputs": []
    },
    {
      "cell_type": "markdown",
      "source": [
        "Finally, we can use the results from the getSeries() query to generate some summary statistics about the data in the collection.  Note that there are separate rows summarizing the contents of the original collection and the contents of the annotation dataset."
      ],
      "metadata": {
        "id": "X8p4rjHCkJIb"
      }
    },
    {
      "cell_type": "code",
      "source": [
        "# Calculate summary statistics for a given collection\n",
        "nbia.reportDoiSummary(data, api_url = api_url, input_type = \"df\")"
      ],
      "metadata": {
        "id": "BYS-sdd7kJIb"
      },
      "execution_count": null,
      "outputs": []
    },
    {
      "cell_type": "markdown",
      "source": [
        "## 4.3 Downloading data with the REST API\n",
        "Next we'll cover using the API to download data.  This can be useful if you'd like to download results from API queries rather than using an existing manifest file.  It's also useful if you can't install the NBIA Data Retriever or want to integrate TCIA downloads into other pipelines/tools.  \n",
        "\n",
        "The following examples demonstrate how to download the following subsets of data:\n",
        "\n",
        "1. Download and visualize a sample case\n",
        "2. Download seed point labels\n",
        "2. Download 3d segmentation labels\n",
        "3. Download source images used to create seed points and segmentations\n",
        "4. Download source images with negative finding assessments\n",
        "\n"
      ],
      "metadata": {
        "id": "aWUOGHyLkJIb"
      }
    },
    {
      "cell_type": "markdown",
      "source": [
        "### 4.3.1 tcia_utils download functions\n",
        "**tcia_utils** contains a **downloadSeries()** function that has multiple options for specifying the seriesUids you'd like to download.  By default, the function expects JSON data containing \"SeriesInstanceUID\" elements, which can be generated using **getSeries()** or **getCart()**.  However, if you have a series UID list from some other source, you can set **input_type = \"list\"** to pass a python list of one or more series UIDs instead of JSON.  You can also set **input_type = \"manifest\"** to pass the path of a *.TCIA manifest file as series_data.\n",
        "\n",
        "Data are saved to a **tciaDownload** folder in your current working directory by default, but you can use the **path** parameter to change this to a different directory.\n",
        "\n",
        "There is an optional **format** parameter that can be used to return metadata about what was downloaded.  It can be set to **df** to return dataframe or **csv** to save a spreadsheet. There's also a **csv_filename** parameter if you want to set a specific file name.\n",
        "\n",
        "You can specify **number = n** to tell the function to only download the first **n** scans of your seriesUids.  Remove this parameter in the examples below to download the full dataset.\n",
        "\n",
        "The **api_url** parameter can be omitted in most cases.  However, it must be set to **api_url = \"nlst\"** to access the [National Lung Screening Trial (NLST)](https://doi.org/10.7937/TCIA.HMQ8-J677) collection and you must use **api_url = \"restricted\"** for datasets that require logging in. This is only relevant for accessing CPTAC-HNSCC for our purposes.\n",
        "\n",
        "Last but not least, there is some logic built in to detect whether you've already downloaded a series.  If a directory named after the seriesUid already exists the function will assume it's already been downloaded and skip that series."
      ],
      "metadata": {
        "id": "woFF4omPkJIb"
      }
    },
    {
      "cell_type": "markdown",
      "source": [
        "### 4.3.2 Download subsets of the data\n",
        "To identify the subsets for our use cases, we'll leverage the **annotation metadata** spreadsheet the authors provided, which you can download manually from the collection homepage links in section 1 of the notebook or retrieve directly into a dataframe with the code below."
      ],
      "metadata": {
        "id": "VZuiv-1ykJIc"
      }
    },
    {
      "cell_type": "code",
      "source": [
        "metadata_urls = {\n",
        "    \"CPTAC-CCRCC\": \"https://wiki.cancerimagingarchive.net/download/attachments/157288300/Metadata_Report_CPTAC-CCRCC_2023_07_14.csv\",\n",
        "    \"CPTAC-PDA\": \"https://wiki.cancerimagingarchive.net/download/attachments/157288334/Metadata_Report_CPTAC-PDA_2023_07_14.csv\",\n",
        "    \"CPTAC-HNSCC\": \"https://wiki.cancerimagingarchive.net/download/attachments/157288486/Metadata_Report_CPTAC-HNSCC_2023_07_14.csv\",\n",
        "    \"CPTAC-UCEC\": \"https://wiki.cancerimagingarchive.net/download/attachments/157288358/Metadata_Report_CPTAC-UCEC_2023_07_14.csv\"\n",
        "}\n",
        "\n",
        "if collection in metadata_urls:\n",
        "    spreadsheet_url = metadata_urls[collection]\n",
        "    annotation_Metadata = pd.read_csv(spreadsheet_url)\n",
        "    display(annotation_Metadata)\n",
        "else:\n",
        "    print(\"URL for collection not found.\")"
      ],
      "metadata": {
        "id": "Y2s8JKf74y-q"
      },
      "execution_count": null,
      "outputs": []
    },
    {
      "cell_type": "markdown",
      "source": [
        "### Download and visualize a sample case\n",
        "Here we'll walk through some steps to identify an example segmentation file, find the corresponding reference series and visualize them together in the notebook.\n",
        "\n",
        "First, let's pull the series UID of the first segmentation from our annotation metadata."
      ],
      "metadata": {
        "id": "UmZ1gP5XsvD9"
      }
    },
    {
      "cell_type": "code",
      "source": [
        "segSeries = annotation_Metadata.loc[annotation_Metadata['Annotation Type'] == 'Segmentation', 'SeriesInstanceUID'].iloc[0]\n",
        "\n",
        "print(segSeries)"
      ],
      "metadata": {
        "id": "WFEOLIYRs33G"
      },
      "execution_count": null,
      "outputs": []
    },
    {
      "cell_type": "markdown",
      "source": [
        "In this case we are fortunate to also have the corresponding reference Series UID in the spreadsheet so we can obtain that in a similar fashion."
      ],
      "metadata": {
        "id": "fK3g_JmkuBi6"
      }
    },
    {
      "cell_type": "code",
      "source": [
        "# Find the row where 'SeriesInstanceUID' is equal to segSeries\n",
        "filtered_row = annotation_Metadata[annotation_Metadata['SeriesInstanceUID'] == segSeries]\n",
        "\n",
        "# Extract the value from 'ReferencedSeriesInstanceUID' column in the filtered row\n",
        "refSeries = filtered_row['ReferencedSeriesInstanceUID'].iloc[0]\n",
        "\n",
        "print(refSeries)"
      ],
      "metadata": {
        "id": "UKDaSEovuN9H"
      },
      "execution_count": null,
      "outputs": []
    },
    {
      "cell_type": "markdown",
      "source": [
        "Alternatively, if you ever have a situation where you don't have a spreadsheet like this and want to determine the Reference Series UID you can try using **nbia.getSegRefSeries()** to obtain it."
      ],
      "metadata": {
        "id": "8NVZAb3qu_X4"
      }
    },
    {
      "cell_type": "code",
      "source": [
        "refSeries = nbia.getSegRefSeries(segSeries)\n",
        "\n",
        "print(refSeries)"
      ],
      "metadata": {
        "id": "jogkmh9kvMoW"
      },
      "execution_count": null,
      "outputs": []
    },
    {
      "cell_type": "markdown",
      "source": [
        "Next let's download these two series."
      ],
      "metadata": {
        "id": "KkMkyHoYwC2F"
      }
    },
    {
      "cell_type": "code",
      "source": [
        "nbia.downloadSeries([refSeries, segSeries], input_type= \"list\", api_url = api_url)"
      ],
      "metadata": {
        "id": "1P-s8sZBwIIz"
      },
      "execution_count": null,
      "outputs": []
    },
    {
      "cell_type": "markdown",
      "source": [
        "Now we can look at the images and segmentation together with **viewSeriesAnnotation()**.  Note that this function is only meant to be a  quick and dirty way to preview the data.  There are more comprehensive solutions such as [3D Slicer](https://slicer.org/) or [itkWidgets](https://github.com/kirbyju/TCIA_Notebooks/blob/main/TCIA_RTStruct_SEG_Visualization_with_itkWidgets.ipynb) if you want analyze the data."
      ],
      "metadata": {
        "id": "6HU0fGOwvxxO"
      }
    },
    {
      "cell_type": "code",
      "source": [
        "nbia.viewSeriesAnnotation(seriesUid = refSeries, annotationUid = segSeries)"
      ],
      "metadata": {
        "id": "gZb33aCNv24K"
      },
      "execution_count": null,
      "outputs": []
    },
    {
      "cell_type": "markdown",
      "source": [
        "#### Download seed points\n",
        "Since we're working with Series UIDs from a dataframe instead of JSON output from the API, we'll use the  **input_type = \"list\"** parameter in the remaining download steps.  The examples will download the first three series.  You can remove the **number = 3** parameter to download the entire dataset.  We'll also specify a **csv_filename** to save the related metadata to a file."
      ],
      "metadata": {
        "id": "kgkWxt-QUM3i"
      }
    },
    {
      "cell_type": "code",
      "source": [
        "# filter dataframe to only include seed point rows\n",
        "seedPoints = annotation_Metadata[annotation_Metadata['Annotation Type'].str.contains('Seed point')]\n",
        "#display(seedPoints)\n",
        "\n",
        "# extract series UID column to list for downloading\n",
        "series_data = seedPoints[\"SeriesInstanceUID\"].tolist()\n",
        "\n",
        "# download a sample set of three scans\n",
        "# return metadata dataframe as dataframe\n",
        "# save a CSV of the metadata\n",
        "nbia.downloadSeries(series_data, number = 3, api_url = api_url, input_type = \"list\", csv_filename = collection + \"-seedPoints\")"
      ],
      "metadata": {
        "id": "gIXTLO5dkJIc"
      },
      "execution_count": null,
      "outputs": []
    },
    {
      "cell_type": "markdown",
      "source": [
        "#### Download 3D segmentations"
      ],
      "metadata": {
        "id": "1irWBSZvU05T"
      }
    },
    {
      "cell_type": "code",
      "source": [
        "# filter dataframe to only include segmentations\n",
        "segs = annotation_Metadata[annotation_Metadata['Annotation Type'].str.contains('Segmentation')]\n",
        "#display(segs)\n",
        "\n",
        "# extract series UID column to list for downloading\n",
        "series_data = segs[\"SeriesInstanceUID\"].tolist()\n",
        "\n",
        "# download a sample set of three scans\n",
        "# return metadata dataframe as dataframe\n",
        "# save a CSV of the metadata\n",
        "nbia.downloadSeries(series_data, number = 3, api_url = api_url, input_type = \"list\", csv_filename = collection + \"-segs\")"
      ],
      "metadata": {
        "id": "_lG5TO7wkJIc"
      },
      "execution_count": null,
      "outputs": []
    },
    {
      "cell_type": "markdown",
      "source": [
        "#### Download source images for seed points and segmentations"
      ],
      "metadata": {
        "id": "9XsnZm2hkJIc"
      }
    },
    {
      "cell_type": "code",
      "source": [
        "# filter dataframe to only include seg and seed point rows (remove \"no findings\")\n",
        "ref_Series = annotation_Metadata[(annotation_Metadata['Annotation Type'] == 'Seed point') |\n",
        "                                 (annotation_Metadata['Annotation Type'] == 'Segmentation')]\n",
        "\n",
        "# remove duplicate ReferencedSeriesUIDs\n",
        "clean_refSeries = ref_Series.drop_duplicates(subset='ReferencedSeriesInstanceUID')\n",
        "#display(clean_refSeries)\n",
        "\n",
        "# extract series UID column to list for downloading\n",
        "series_data = clean_refSeries[\"ReferencedSeriesInstanceUID\"].tolist()\n",
        "\n",
        "# download a sample set of three scans\n",
        "# return metadata dataframe as dataframe\n",
        "# save a CSV of the metadata\n",
        "nbia.downloadSeries(series_data, number = 3, api_url = api_url, input_type = \"list\", csv_filename = collection + \"-seg_seed_source_images\")"
      ],
      "metadata": {
        "id": "O4ivqjOHkJIc"
      },
      "execution_count": null,
      "outputs": []
    },
    {
      "cell_type": "markdown",
      "source": [
        "The following code will download the scans with negative finding assessments.  These are cases where the authors of the dataset did not find anything that could be annotated.  Downloading these scans could be useful if you are training a tumor/metastases detection model."
      ],
      "metadata": {
        "id": "f6exl7ORkJIc"
      }
    },
    {
      "cell_type": "code",
      "source": [
        "# filter dataframe to only include scans with \"no findings\"\n",
        "ref_Series = annotation_Metadata[annotation_Metadata['Annotation Type'] == 'No findings']\n",
        "\n",
        "# remove duplicate ReferencedSeriesUIDs\n",
        "clean_refSeries = ref_Series.drop_duplicates(subset='ReferencedSeriesInstanceUID')\n",
        "#display(clean_refSeries)\n",
        "\n",
        "# extract series UID column to list for downloading\n",
        "series_data = clean_refSeries[\"ReferencedSeriesInstanceUID\"].tolist()\n",
        "\n",
        "# download a sample set of three scans\n",
        "# return metadata dataframe as dataframe\n",
        "# save a CSV of the metadata\n",
        "nbia.downloadSeries(series_data, number = 3, api_url = api_url, input_type = \"list\", csv_filename = collection + \"-noFinding_source_images\")"
      ],
      "metadata": {
        "id": "enSo8BLikJIc"
      },
      "execution_count": null,
      "outputs": []
    },
    {
      "cell_type": "markdown",
      "source": [
        "# Acknowledgements\n",
        "[The Cancer Imaging Archive (TCIA)](https://www.cancerimagingarchive.net/) is a service which de-identifies and hosts a large publicly available archive of medical images of cancer.  TCIA is funded by the [Cancer Imaging Program (CIP)](https://imaging.cancer.gov/), a part of the United States [National Cancer Institute (NCI)](https://www.cancer.gov/), and is managed by the [Frederick National Laboratory for Cancer Research (FNLCR)](https://frederick.cancer.gov/).\n",
        "\n",
        "This notebook was created by [Justin Kirby](https://www.linkedin.com/in/justinkirby82/).  If you leverage TCIA datasets in your work please be sure to comply with the [TCIA Data Usage Policy](https://wiki.cancerimagingarchive.net/x/c4hF) and include all relevant citations.\n",
        "\n",
        "## TCIA Citation\n",
        "\n",
        "Clark, K., Vendt, B., Smith, K., Freymann, J., Kirby, J., Koppel, P., Moore, S., Phillips, S., Maffitt, D., Pringle, M., Tarbox, L., & Prior, F. (2013). The Cancer Imaging Archive (TCIA): Maintaining and Operating a Public Information Repository. Journal of Digital Imaging, 26(6), 1045–1057. https://doi.org/10.1007/s10278-013-9622-7\n",
        "\n",
        "## Dataset Citations\n",
        "\n",
        "Citations for each dataset can be found on their summary pages that are listed in section 1."
      ],
      "metadata": {
        "id": "DCOM4lO4_tET"
      }
    }
  ]
}