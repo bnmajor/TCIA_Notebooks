{
  "cells": [
    {
      "cell_type": "markdown",
      "source": [
        "You can download and run this notebook locally, or you can run it for free in a cloud environment using Colab or Sagemaker Studio Lab:\n",
        "\n",
        "[![Open In Colab](https://colab.research.google.com/assets/colab-badge.svg)](https://colab.research.google.com/github/kirbyju/TCIA_Notebooks/blob/main/TCGA/TCGA_Clinical.ipynb)\n",
        "\n",
        "[![Open In SageMaker Studio Lab](https://studiolab.sagemaker.aws/studiolab.svg)](https://studiolab.sagemaker.aws/import/github.com/kirbyju/TCIA_Notebooks/blob/main/TCGA/TCGA_Clinical.ipynb)"
      ],
      "metadata": {
        "id": "eOSzF5R89gAh"
      },
      "id": "eOSzF5R89gAh"
    },
    {
      "cell_type": "markdown",
      "source": [
        "# Summary\n",
        "\n",
        "Access to large, high quality data is essential for researchers to understand disease and precision medicine pathways, especially in cancer. However HIPAA constraints make sharing medical images outside an individual institution a complex process. [The Cancer Imaging Archive (TCIA)](https://www.cancerimagingarchive.net/) is a public service funded by the National Cancer Institute which addresses this challenge by providing hosting and de-identification services to take major burdens of data sharing off researchers.\n",
        "\n",
        "[The Cancer Genome Atlas (TCGA)](https://www.cancer.gov/ccg/research/genome-sequencing/tcga) began in 2006 as a three-year pilot jointly sponsored by the National Cancer Institute (NCI) and National Human Genome Research Institute (NHGRI). The TCGA pilot project (focused initially on glioblastoma, ovary, and lung cancers) confirmed that an atlas of genomic changes could be constructed for specific cancer types. It also showed that national networks of research and technology teams working on related projects could pool their efforts, create an economy of scale, and develop an infrastructure for making the data publicly accessible. The success of that pilot encouraged the National Institutes of Health (NIH) to invest in TCGA's efforts to collect and characterize more than 20 additional tumor types and make findings freely accessible for researchers to download.  \n",
        "\n",
        "The genomic, clinical and histopathology images from the project are available via NCI's [Genomic Data Commons (GDC)](https://gdc.cancer.gov/).  NCI's Cancer Imaging Program subsequently leveraged the agreements with TCGA Tissue Source Sites to collect [clinical diagnostic images from these subjects](https://wiki.cancerimagingarchive.net/x/sgEe) and make them available on The Cancer Imaging Archive (TCIA).  By combining the imaging data from TCIA with the other data types collected by TCGA a research community focused on connecting cancer phenotypes to genotypes was formed, resulting in over one hundred peer-reviewed publications about these data.\n",
        "\n",
        "**This notebook is focused on using the clinical data available on the GDC to create a cohort of interest and then obtaining the related radiology data for those subjects from TCIA.** If you're interested in additional TCIA notebooks and coding examples check out https://github.com/kirbyju/TCIA_Notebooks."
      ],
      "metadata": {
        "id": "PzZfvWVey0pW"
      },
      "id": "PzZfvWVey0pW"
    },
    {
      "cell_type": "markdown",
      "id": "d01de9f0-d224-4fff-8336-b386a44b96b4",
      "metadata": {
        "id": "d01de9f0-d224-4fff-8336-b386a44b96b4"
      },
      "source": [
        "# Setup\n",
        "We'll leverage https://pypi.org/project/tcia-utils/ to make it easier to access TCIA data via its APIs, as well as the Pandas and Numpy for working with the clinical data from GDC."
      ]
    },
    {
      "cell_type": "code",
      "source": [
        "!pip install --upgrade -q tcia-utils\n",
        "!pip install -q pandas\n",
        "!pip install numpy"
      ],
      "metadata": {
        "id": "mCKKW3gR0yTr"
      },
      "id": "mCKKW3gR0yTr",
      "execution_count": null,
      "outputs": []
    },
    {
      "cell_type": "code",
      "execution_count": null,
      "id": "aeab86fb-e06c-4022-be72-02d0c1b207e8",
      "metadata": {
        "id": "aeab86fb-e06c-4022-be72-02d0c1b207e8"
      },
      "outputs": [],
      "source": [
        "import pandas as pd\n",
        "import numpy as np\n",
        "from tcia_utils import nbia"
      ]
    },
    {
      "cell_type": "markdown",
      "id": "24ad96b9-2b07-4842-a341-5be03c193c8f",
      "metadata": {
        "id": "24ad96b9-2b07-4842-a341-5be03c193c8f"
      },
      "source": [
        "This link to the [clinical data](https://portal.gdc.cancer.gov/repository?facetTab=files&filters=%7B%22op%22%3A%22and%22%2C%22content%22%3A%5B%7B%22op%22%3A%22in%22%2C%22content%22%3A%7B%22field%22%3A%22cases.project.program.name%22%2C%22value%22%3A%5B%22TCGA%22%5D%7D%7D%2C%7B%22op%22%3A%22in%22%2C%22content%22%3A%7B%22field%22%3A%22cases.project.project_id%22%2C%22value%22%3A%5B%22TCGA-BLCA%22%2C%22TCGA-BRCA%22%2C%22TCGA-CESC%22%2C%22TCGA-COAD%22%2C%22TCGA-ESCA%22%2C%22TCGA-GBM%22%2C%22TCGA-HNSC%22%2C%22TCGA-KICH%22%2C%22TCGA-KIRC%22%2C%22TCGA-KIRP%22%2C%22TCGA-LGG%22%2C%22TCGA-LIHC%22%2C%22TCGA-LUAD%22%2C%22TCGA-LUSC%22%2C%22TCGA-OV%22%2C%22TCGA-PRAD%22%2C%22TCGA-READ%22%2C%22TCGA-SARC%22%2C%22TCGA-STAD%22%2C%22TCGA-THCA%22%2C%22TCGA-UCEC%22%5D%7D%7D%2C%7B%22op%22%3A%22in%22%2C%22content%22%3A%7B%22field%22%3A%22files.data_category%22%2C%22value%22%3A%5B%22clinical%22%5D%7D%7D%2C%7B%22op%22%3A%22in%22%2C%22content%22%3A%7B%22field%22%3A%22files.data_format%22%2C%22value%22%3A%5B%22bcr%20biotab%22%5D%7D%7D%2C%7B%22op%22%3A%22in%22%2C%22content%22%3A%7B%22field%22%3A%22files.data_type%22%2C%22value%22%3A%5B%22Clinical%20Supplement%22%5D%7D%7D%5D%7D)  can be used to download all TCGA clinical files from the Genomic Data Commons for the cancer types where TCIA hosts the radiology images. As a convenience, the resulting TSV file has been uploaded [here](https://github.com/kirbyju/TCIA_Notebooks/raw/main/TCGA/clinical.tsv) but the GDC should be considered the authoritative copy in case of any updates or discrepancies.\n",
        "\n",
        "# Import the clinical data\n",
        "Next, let's read in the clinical TSV file and take a look at the contents.  Note that many of the columns contain missing values or are completely empty."
      ]
    },
    {
      "cell_type": "code",
      "execution_count": null,
      "id": "149163b0-6c2c-4129-88fd-f70c02d46093",
      "metadata": {
        "id": "149163b0-6c2c-4129-88fd-f70c02d46093"
      },
      "outputs": [],
      "source": [
        "# Read the TSV file into a DataFrame\n",
        "df = pd.read_csv(\"https://github.com/kirbyju/TCIA_Notebooks/raw/main/TCGA/clinical.tsv\", delimiter='\\t')\n",
        "display(df)"
      ]
    },
    {
      "cell_type": "markdown",
      "id": "97b43da1-024d-4259-9be9-2bb84404dde2",
      "metadata": {
        "id": "97b43da1-024d-4259-9be9-2bb84404dde2"
      },
      "source": [
        "# Dataset cleanup\n",
        "\n",
        "Let's figure out which columns aren't very well populated with useful data so we can drop them.  We'll do this by creating two CSV files.  The first will summarize the content of each column to let us know how often they're populated and the second will create a new CSV that only contains columns that aren't empty."
      ]
    },
    {
      "cell_type": "code",
      "execution_count": null,
      "id": "2472b52c-5059-4800-a7ea-c32dd837584d",
      "metadata": {
        "id": "2472b52c-5059-4800-a7ea-c32dd837584d"
      },
      "outputs": [],
      "source": [
        "# Replace the string \"'--\" with NaN values\n",
        "df = df.replace(\"'--\", np.nan)\n",
        "\n",
        "# Calculate the count and percentage of populated values in each column\n",
        "populated_count = df.notna().sum()\n",
        "populated_percentage = (populated_count / len(df)) * 100\n",
        "\n",
        "# Drop columns that are empty\n",
        "columns_to_drop = populated_percentage[populated_percentage == 0].index\n",
        "df = df.drop(columns_to_drop, axis=1)\n",
        "\n",
        "# Format the non-missing percentage as a two-digit percentage\n",
        "populated_percentage = populated_percentage.round(2).astype(str) + '%'\n",
        "\n",
        "# Combine non-missing count and percentage into a DataFrame\n",
        "populated_info = pd.DataFrame({'Populated Count': populated_count, 'Populated Percentage': populated_percentage})\n",
        "\n",
        "# Save the non-missing information to a CSV file\n",
        "populated_info.to_csv('tcga_clinical_inventory.csv')\n",
        "\n",
        "# Save the updated clinical CSV\n",
        "df.to_csv('tcga_clean_clinical.csv')\n"
      ]
    },
    {
      "cell_type": "markdown",
      "id": "42944474-eb3c-428c-9a33-ba42a64d9a39",
      "metadata": {
        "id": "42944474-eb3c-428c-9a33-ba42a64d9a39"
      },
      "source": [
        "Take a minute to look over the two spreadsheets to get a sense of what kind of data remains.  We'll go over a few examples in this notebook to show how to build a cohort based on the clinical data and imaging metadata, but as you can see from the results of these files, there are lots of other columns you could use to customize your analysis.  \n",
        "\n",
        "# Cohort selection\n",
        "\n",
        "As a starting point, let's investigate how many potential cases are available for each primary_diagnosis."
      ]
    },
    {
      "cell_type": "code",
      "execution_count": null,
      "id": "498710c9-3b25-4f96-b846-1014ad12d931",
      "metadata": {
        "id": "498710c9-3b25-4f96-b846-1014ad12d931"
      },
      "outputs": [],
      "source": [
        "case_group = \"primary_diagnosis\"\n",
        "\n",
        "# Create a DataFrame to store the count of unique case_submitter_id values for each primary_diagnosis\n",
        "origin_count = pd.DataFrame(df.groupby(case_group)['case_submitter_id'].nunique()).reset_index()\n",
        "origin_count.columns = [case_group, 'Count of Unique case_submitter_id']\n",
        "\n",
        "# Sort the DataFrame by the count of case_submitter_id in descending order\n",
        "origin_count = origin_count.sort_values('Count of Unique case_submitter_id', ascending=False)\n",
        "\n",
        "# Reset the index of the DataFrame\n",
        "origin_count = origin_count.reset_index(drop=True)\n",
        "\n",
        "# Display the sorted DataFrame\n",
        "display(origin_count)\n",
        "origin_count.to_csv('tcga_' + case_group + '_counts.csv')"
      ]
    },
    {
      "cell_type": "markdown",
      "id": "07e2caf2-936d-408b-b437-2126184f99aa",
      "metadata": {
        "id": "07e2caf2-936d-408b-b437-2126184f99aa"
      },
      "source": [
        "You can easily repeat this with other criteria by changing the **case_group** variable to a different column name in the CSV's we created.  Let's try grouping cases by **tissue_or_organ_of_origin** this time."
      ]
    },
    {
      "cell_type": "code",
      "execution_count": null,
      "id": "f3672fb6-df9c-4368-af41-da16fc9ffcb9",
      "metadata": {
        "id": "f3672fb6-df9c-4368-af41-da16fc9ffcb9"
      },
      "outputs": [],
      "source": [
        "case_group = \"tissue_or_organ_of_origin\"\n",
        "\n",
        "# Create a DataFrame to store the count of unique case_submitter_id values for each primary_diagnosis\n",
        "origin_count = pd.DataFrame(df.groupby(case_group)['case_submitter_id'].nunique()).reset_index()\n",
        "origin_count.columns = [case_group, 'Count of Unique case_submitter_id']\n",
        "\n",
        "# Sort the DataFrame by the count of case_submitter_id in descending order\n",
        "origin_count = origin_count.sort_values('Count of Unique case_submitter_id', ascending=False)\n",
        "\n",
        "# Reset the index of the DataFrame\n",
        "origin_count = origin_count.reset_index(drop=True)\n",
        "\n",
        "# Display the sorted DataFrame\n",
        "display(origin_count)\n",
        "origin_count.to_csv('tcga_' + case_group + '_counts.csv')\n"
      ]
    },
    {
      "cell_type": "markdown",
      "id": "c41b88b7-8d9a-4e7f-a299-58ded886ff6b",
      "metadata": {
        "id": "c41b88b7-8d9a-4e7f-a299-58ded886ff6b"
      },
      "source": [
        "Now let's create a filtered dataframe/CSV that contains only the clinical data for the tissue type you're interested in.  You can leave the tissue_type variable below set to lung, or change it to match other rows in the previous dataframe. Note that the code is setup to allow partial matches, so typing \"lung\" will catch all 5 records that contain \"lung\" somewhere within the **tissue_or_organ_of_origin** column."
      ]
    },
    {
      "cell_type": "code",
      "execution_count": null,
      "id": "2c3f0d1f-1ed6-4067-b2dd-15b06b246ba6",
      "metadata": {
        "id": "2c3f0d1f-1ed6-4067-b2dd-15b06b246ba6"
      },
      "outputs": [],
      "source": [
        "# feel free to change this to other tissue types\n",
        "tissue_type = \"lung\"\n",
        "\n",
        "# Create dataframe for selected tissue type\n",
        "tissue_type_df = df[df['tissue_or_organ_of_origin'].str.contains(tissue_type, case=False, na=False)]\n",
        "\n",
        "display(tissue_type_df)"
      ]
    },
    {
      "cell_type": "markdown",
      "id": "6ac42fb5-35b9-44f7-afb3-77d8501a3508",
      "metadata": {
        "id": "6ac42fb5-35b9-44f7-afb3-77d8501a3508"
      },
      "source": [
        "Now let's see how many of these subjects have imaging data on TCIA.  To achieve this efficiently, first we'll figure out which TCGA **project_id**'s are included in our **tissue_type_df**.  These project_id's are the same as what TCIA uses for its collection names.  \n",
        "\n",
        "Then we'll get a full inventory of the scans associated with those collections on TCIA and compare the GDC case_submitter_id with the TCIA PatientID to determine the overlap.  Here is where we'll take advantage of [tcia_utils](https://pypi.org/project/tcia-utils/) to download the scan metadata.\n",
        "\n",
        "**Note:** TCIA datasets that contain images of the head require special permission due to the potential privacy risks associated with 3D facial reconstruction of such images.  As a result, if you would like to look at TCGA-LGG, TCGA-GBM or TCGA-HNSC datasets you must sign and submit a [TCIA Restricted License Agreement](https://wiki.cancerimagingarchive.net/download/attachments/4556915/TCIA%20Restricted%20License%2020220519.pdf?version=1&modificationDate=1652964581655&api=v2) to help@cancerimagingarchive.net before accessing the data.  After completing this process, you'll be able to easily access them by using the **getToken()** function in **tcia_utils** to create a token with your login credentials."
      ]
    },
    {
      "cell_type": "code",
      "execution_count": null,
      "id": "6bdb943e-3615-43d3-a51b-ba933e79f069",
      "metadata": {
        "id": "6bdb943e-3615-43d3-a51b-ba933e79f069"
      },
      "outputs": [],
      "source": [
        "# Extract unique project_id values from tissue_type_df into a list\n",
        "project_ids = tissue_type_df['project_id'].unique().tolist()\n",
        "\n",
        "# Create list of restricted TCGA datasets to facilitate login process if necessary\n",
        "restricted_datasets = [\"TCGA-GBM\", \"TCGA-LGG\", \"TCGA-HNSC\"]\n",
        "\n",
        "if any(dataset in project_ids for dataset in restricted_datasets):\n",
        "    api_url = \"restricted\"\n",
        "    print(\"You're attempting to access datasets from TCIA that require special permission. Please log in to create an access token:\")\n",
        "    nbia.getToken()\n",
        "else:\n",
        "    api_url = \"\"\n",
        "\n",
        "# Create an empty list to store the DataFrames for each project_id\n",
        "dataframes = []\n",
        "\n",
        "# Iterate through the project_ids list and download the scan metadata for each project/collection\n",
        "for project_id in project_ids:\n",
        "    # Call the nbia.getSeries(project_id, format=\"df\") function and store the resulting DataFrame\n",
        "    series_df = nbia.getSeries(project_id, format=\"df\", api_url = api_url)\n",
        "    # Append the DataFrame to the dataframes list\n",
        "    dataframes.append(series_df)\n",
        "\n",
        "# Concatenate the DataFrames in the dataframes list into a single DataFrame called tcia_inventory\n",
        "tcia_scan_inventory = pd.concat(dataframes)\n",
        "\n",
        "# Extract unique PatientID values from tcia_inventory\n",
        "patient_ids = tcia_scan_inventory['PatientID'].unique()\n",
        "\n",
        "# Filter tissue_type_df to include only rows where case_submitter_id is in patient_ids\n",
        "clinical_cases_with_radiology = tissue_type_df[tissue_type_df['case_submitter_id'].isin(patient_ids)]\n"
      ]
    },
    {
      "cell_type": "code",
      "execution_count": null,
      "id": "b0d4b40c-8bd1-4e91-910b-428f43363bf7",
      "metadata": {
        "id": "b0d4b40c-8bd1-4e91-910b-428f43363bf7"
      },
      "outputs": [],
      "source": [
        "# Display the clinical_cases_with_radiology DataFrame and save a CSV\n",
        "display(clinical_cases_with_radiology)\n",
        "clinical_cases_with_radiology.to_csv(\"tcga_patients_with_tcia_radiology.csv\")"
      ]
    },
    {
      "cell_type": "markdown",
      "id": "9c898da2-8caa-4a2d-ac14-a33771023232",
      "metadata": {
        "id": "9c898da2-8caa-4a2d-ac14-a33771023232"
      },
      "source": [
        "Note that subjects often contain multiple rows.  This seems to be mostly due to repeating their information if they've had both pharmaceutical and radiation therapy treatments (see treatment_type column). Let's run a quick check to see how many unique subjects remain for us to analyze."
      ]
    },
    {
      "cell_type": "code",
      "execution_count": null,
      "id": "b8906068-31e4-467b-ba0d-93ef2420dd55",
      "metadata": {
        "id": "b8906068-31e4-467b-ba0d-93ef2420dd55"
      },
      "outputs": [],
      "source": [
        "# Count the unique values in the case_submitter_id column\n",
        "unique_count = clinical_cases_with_radiology['case_submitter_id'].nunique()\n",
        "\n",
        "# Display the count\n",
        "print(\"Number of unique case_submitter_id values:\", unique_count)"
      ]
    },
    {
      "cell_type": "markdown",
      "id": "1c0d146e-52f2-4868-ac7c-775bbb766d4c",
      "metadata": {
        "id": "1c0d146e-52f2-4868-ac7c-775bbb766d4c"
      },
      "source": [
        "Now let's take a look at what kind of imaging data are available for these subjects by reviewing the scan inventory dataframe we created earlier.  First we'll use a reporting function from tcia_utils to get a high-level understanding of the data, and then we'll display and export the metadata for each individual scan to CSV.\n",
        "\n",
        "**Note:** The report below will include relevant image collections as well as 3rd party \"analysis result\" datasets related to those images (if any exist).  You can learn more about the various datasets by visiting their CollectionURI."
      ]
    },
    {
      "cell_type": "code",
      "execution_count": null,
      "id": "cfab03b0-63a3-4793-a339-39977ada3efa",
      "metadata": {
        "id": "cfab03b0-63a3-4793-a339-39977ada3efa"
      },
      "outputs": [],
      "source": [
        "nbia.reportDoiSummary(tcia_scan_inventory, input_type = \"df\", api_url = api_url)"
      ]
    },
    {
      "cell_type": "markdown",
      "id": "24773fb1-f7a7-476f-a28c-25aab02b77f9",
      "metadata": {
        "id": "24773fb1-f7a7-476f-a28c-25aab02b77f9"
      },
      "source": [
        "If you stuck with the lung example, you should see that there are 69 TCGA-LUAD (lung adenocarcinoma) subjects and 37 TCGA-LUSC (lung squamous cell) subjects that contain a mix of PET, CT and nuclear medicine modalities.\n",
        "\n",
        "Now let's take a quick look at the scan-level report, where you can see a variety of additional info about each scan:"
      ]
    },
    {
      "cell_type": "code",
      "execution_count": null,
      "id": "ea837b0b-b61c-45ee-bf4e-163c6aa12ffd",
      "metadata": {
        "id": "ea837b0b-b61c-45ee-bf4e-163c6aa12ffd"
      },
      "outputs": [],
      "source": [
        "# Display the tcia_inventory DataFrame\n",
        "display(tcia_scan_inventory)\n",
        "tcia_scan_inventory.to_csv('tcia_scan_inventory.csv')"
      ]
    },
    {
      "cell_type": "markdown",
      "id": "95cce1fc-a709-4c01-864f-1cea7e37503a",
      "metadata": {
        "id": "95cce1fc-a709-4c01-864f-1cea7e37503a"
      },
      "source": [
        "Let's pretend that you're only interested in a particular modality of imaging to analyze.  Feel free to leave it as \"CT\" if you're following along with our lung example, or try customizing the modality value to anything else you saw in the previous report.  "
      ]
    },
    {
      "cell_type": "code",
      "execution_count": null,
      "id": "523b29c8-8035-42a8-820e-8681cb41162e",
      "metadata": {
        "id": "523b29c8-8035-42a8-820e-8681cb41162e"
      },
      "outputs": [],
      "source": [
        "modality = \"CT\"\n",
        "\n",
        "# Create dataframe for selected modality\n",
        "download_df = tcia_scan_inventory[tcia_scan_inventory['Modality'].str.contains(modality, case=False, na=False)]\n",
        "\n",
        "display(download_df)"
      ]
    },
    {
      "cell_type": "markdown",
      "id": "2d74da9b-fe2a-456d-832d-9af431272664",
      "metadata": {
        "id": "2d74da9b-fe2a-456d-832d-9af431272664"
      },
      "source": [
        "Finally, let's download the scans that match your modality of interest for your analysis.\n",
        "\n",
        "**Note:** The download step includes a parameter called **number** which lets you set the number of scans to download.  This is useful for quick tests/demos.  If you'd like to download the full cohort of images you should remove this parameter."
      ]
    },
    {
      "cell_type": "code",
      "execution_count": null,
      "id": "6f35b041-7037-4119-91d6-0e3b81152584",
      "metadata": {
        "id": "6f35b041-7037-4119-91d6-0e3b81152584"
      },
      "outputs": [],
      "source": [
        "# extract the SeriesInstanceUID column as a list variable\n",
        "series_uids = download_df['SeriesInstanceUID'].tolist()\n",
        "\n",
        "nbia.downloadSeries(series_uids, number = 1, api_url = api_url, input_type = \"list\")"
      ]
    },
    {
      "cell_type": "markdown",
      "source": [
        "# Acknowledgements\n",
        "TCIA is funded by the [Cancer Imaging Program (CIP)](https://imaging.cancer.gov/), a part of the United States [National Cancer Institute (NCI)](https://www.cancer.gov/).  It is managed by the [Frederick National Laboratory for Cancer Research (FNLCR)](https://frederick.cancer.gov/) and hosted by the [University of Arkansas for Medical Sciences (UAMS)](https://www.uams.edu/)\n",
        "\n",
        "This notebook was created by [Justin Kirby](https://www.linkedin.com/in/justinkirby82/). If you leverage this notebook or any TCIA datasets in your work, please be sure to comply with the [TCIA Data Usage Policy](https://wiki.cancerimagingarchive.net/x/c4hF). In particular, make sure to cite the DOI(s) for the specific TCIA datasets you used in addition to the following paper!\n",
        "\n",
        "## TCIA Citation\n",
        "\n",
        "Clark, K., Vendt, B., Smith, K., Freymann, J., Kirby, J., Koppel, P., Moore, S., Phillips, S., Maffitt, D., Pringle, M., Tarbox, L., & Prior, F. (2013). The Cancer Imaging Archive (TCIA): Maintaining and Operating a Public Information Repository. Journal of Digital Imaging, 26(6), 1045–1057. https://doi.org/10.1007/s10278-013-9622-7"
      ],
      "metadata": {
        "id": "Jpb1remD9xX1"
      },
      "id": "Jpb1remD9xX1"
    }
  ],
  "metadata": {
    "kernelspec": {
      "display_name": "Python 3 (ipykernel)",
      "language": "python",
      "name": "python3"
    },
    "language_info": {
      "codemirror_mode": {
        "name": "ipython",
        "version": 3
      },
      "file_extension": ".py",
      "mimetype": "text/x-python",
      "name": "python",
      "nbconvert_exporter": "python",
      "pygments_lexer": "ipython3",
      "version": "3.9.13"
    },
    "colab": {
      "provenance": []
    }
  },
  "nbformat": 4,
  "nbformat_minor": 5
}